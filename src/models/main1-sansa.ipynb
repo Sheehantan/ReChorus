{
 "cells": [
  {
   "cell_type": "code",
   "execution_count": 44,
   "metadata": {},
   "outputs": [
    {
     "name": "stdout",
     "output_type": "stream",
     "text": [
      "Defaulting to user installation because normal site-packages is not writeable\n",
      "Requirement already satisfied: scikit-sparse in c:\\programdata\\anaconda3\\lib\\site-packages (0.4.14)\n",
      "Requirement already satisfied: numpy>=1.13.3 in c:\\programdata\\anaconda3\\lib\\site-packages (from scikit-sparse) (1.26.4)\n",
      "Requirement already satisfied: scipy>=0.19 in c:\\programdata\\anaconda3\\lib\\site-packages (from scikit-sparse) (1.14.1)\n",
      "Note: you may need to restart the kernel to use updated packages.\n"
     ]
    }
   ],
   "source": [
    "pip install scikit-sparse"
   ]
  },
  {
   "cell_type": "code",
   "execution_count": 45,
   "metadata": {},
   "outputs": [
    {
     "name": "stdout",
     "output_type": "stream",
     "text": [
      "Defaulting to user installation because normal site-packages is not writeable\n",
      "Requirement already satisfied: sansa in c:\\users\\14333\\appdata\\roaming\\python\\python311\\site-packages (1.1.0)\n",
      "Requirement already satisfied: numba>=0.57.0 in c:\\programdata\\anaconda3\\lib\\site-packages (from sansa) (0.59.0)\n",
      "Requirement already satisfied: numpy>=1.22.3 in c:\\programdata\\anaconda3\\lib\\site-packages (from sansa) (1.26.4)\n",
      "Requirement already satisfied: scikit-sparse>=0.4.8 in c:\\programdata\\anaconda3\\lib\\site-packages (from sansa) (0.4.14)\n",
      "Requirement already satisfied: scipy>=1.7.3 in c:\\programdata\\anaconda3\\lib\\site-packages (from sansa) (1.14.1)\n",
      "Requirement already satisfied: llvmlite<0.43,>=0.42.0dev0 in c:\\programdata\\anaconda3\\lib\\site-packages (from numba>=0.57.0->sansa) (0.42.0)\n",
      "Note: you may need to restart the kernel to use updated packages.\n"
     ]
    }
   ],
   "source": [
    "pip install sansa"
   ]
  },
  {
   "cell_type": "code",
   "execution_count": 57,
   "metadata": {},
   "outputs": [],
   "source": [
    "import numpy as np\n",
    "import pandas as pd\n",
    "from scipy.sparse import csr_matrix\n",
    "from sklearn.model_selection import train_test_split\n",
    "from sansa import (\n",
    "    SANSA,\n",
    "    SANSAConfig,\n",
    "    CHOLMODGramianFactorizerConfig,\n",
    "    ICFGramianFactorizerConfig,\n",
    "    UMRUnitLowerTriangleInverterConfig,\n",
    ")"
   ]
  },
  {
   "cell_type": "code",
   "execution_count": 58,
   "metadata": {},
   "outputs": [],
   "source": [
    "# 示例数据（确保用户和物品 ID 连续并且增加交互）\n",
    "data = {\n",
    "    'user_id': [0, 0, 1, 1, 2, 2, 3, 3, 0, 1, 2, 0, 1, 2, 0, 1],\n",
    "    'item_id': [0, 1, 0, 2, 1, 2, 0, 1, 2, 1, 2, 0, 1, 2, 1, 0],\n",
    "    'interaction': [1, 1, 1, 1, 1, 1, 1, 1, 1, 1, 1, 1, 1, 1, 1, 1]\n",
    "}\n",
    "df = pd.DataFrame(data)"
   ]
  },
  {
   "cell_type": "code",
   "execution_count": 59,
   "metadata": {},
   "outputs": [],
   "source": [
    "# 确保用户和物品 ID 是连续的\n",
    "df['user_id'] = df['user_id'].astype('category').cat.codes\n",
    "df['item_id'] = df['item_id'].astype('category').cat.codes"
   ]
  },
  {
   "cell_type": "code",
   "execution_count": 60,
   "metadata": {},
   "outputs": [
    {
     "name": "stdout",
     "output_type": "stream",
     "text": [
      "Interaction matrix shape: (4, 3)\n",
      "Number of non-zero entries: 10\n"
     ]
    }
   ],
   "source": [
    "# 创建用户-物品交互矩阵\n",
    "num_users = df['user_id'].nunique()\n",
    "num_items = df['item_id'].nunique()\n",
    "interaction_matrix = csr_matrix((df['interaction'], (df['user_id'], df['item_id'])), shape=(num_users, num_items))\n",
    "\n",
    "# 确认矩阵形状\n",
    "print(\"Interaction matrix shape:\", interaction_matrix.shape)\n",
    "print(\"Number of non-zero entries:\", interaction_matrix.nnz)\n",
    "\n",
    "# 提取训练集\n",
    "X_train, X_test = train_test_split(interaction_matrix, test_size=0.2, random_state=42)"
   ]
  },
  {
   "cell_type": "code",
   "execution_count": 61,
   "metadata": {},
   "outputs": [],
   "source": [
    "from sansa import ICFGramianFactorizerConfig\n",
    "from sansa import UMRUnitLowerTriangleInverterConfig\n",
    "from sansa import CHOLMODGramianFactorizerConfig\n",
    "# 配置模型\n",
    "factorizer_config = CHOLMODGramianFactorizerConfig()  # 使用默认参数\n",
    "inverter_config = UMRUnitLowerTriangleInverterConfig(scans=1, finetune_steps=5)\n",
    "\n",
    "config = SANSAConfig(\n",
    "    l2=20.0,\n",
    "    weight_matrix_density=5e-5,\n",
    "    gramian_factorizer_config=factorizer_config,\n",
    "    lower_triangle_inverter_config=inverter_config,\n",
    ")"
   ]
  },
  {
   "cell_type": "code",
   "execution_count": 62,
   "metadata": {},
   "outputs": [
    {
     "name": "stderr",
     "output_type": "stream",
     "text": [
      "INFO:sansa.model:Computing LDL^T decomposition of permuted item-item matrix...\n",
      "INFO:sansa.core.factorizers:Computing incomplete Cholesky decomposition of X^TX + 20.0*I...\n",
      "WARNING:sansa.core.factorizers:\n",
      "                Too Sparse Warning: \n",
      "                    Selected density 0.005000% is too low, clipping to 66.666667%. \n",
      "                    Minimum density might result in worse quality of the approximate factor.\n",
      "                \n",
      "INFO:sansa.core.factorizers:Finding a fill-in reducing ordering (method = colamd)...\n",
      "INFO:sansa.core.factorizers:Computing approximate Cholesky decomposition (method = CHOLMOD)...\n",
      "INFO:sansa.core.factorizers:Dropping small entries in L (66.666667% dense, target = 66.666667%)...\n",
      "INFO:sansa.core.factorizers:Scaling columns and creating diagonal matrix D (LL^T -> L'DL'^T)...\n",
      "INFO:sansa.model:Computing approximate inverse of L...\n",
      "INFO:sansa.core.inverters:Calculating initial guess using 1 step of Schultz method...\n",
      "INFO:sansa.core.inverters:Calculating approximate inverse using Uniform Minimal Residual algorithm...\n",
      "INFO:sansa.core._ops._inverse_ops:Current maximum residual: 0.0368, relative Frobenius norm squared: 0.00045141333333333333\n",
      "INFO:sansa.core._ops._inverse_ops:Performing UMR scan 1...\n",
      "INFO:sansa.core._ops._inverse_ops:Current maximum residual: 3.4157153855881365e-09, relative Frobenius norm squared: 3.9316697633345975e-18\n",
      "INFO:sansa.core._ops._inverse_ops:Performing UMR finetune step 1...\n",
      "INFO:sansa.core._ops._inverse_ops:Current maximum residual: 3.4157153855881365e-09, relative Frobenius norm squared: 3.9316697633345975e-18\n",
      "INFO:sansa.core._ops._inverse_ops:Performing UMR finetune step 2...\n",
      "INFO:sansa.core._ops._inverse_ops:Current maximum residual: 3.4157153855881365e-09, relative Frobenius norm squared: 3.9316697633345975e-18\n",
      "INFO:sansa.core._ops._inverse_ops:Performing UMR finetune step 3...\n",
      "INFO:sansa.core._ops._inverse_ops:Current maximum residual: 3.4157153855881365e-09, relative Frobenius norm squared: 3.9316697633345975e-18\n",
      "INFO:sansa.core._ops._inverse_ops:Performing UMR finetune step 4...\n",
      "INFO:sansa.core._ops._inverse_ops:Current maximum residual: 3.4157153855881365e-09, relative Frobenius norm squared: 3.9316697633345975e-18\n",
      "INFO:sansa.core._ops._inverse_ops:Performing UMR finetune step 5...\n",
      "INFO:sansa.core.inverters:Current maximum residual: 3.4157153855881365e-09, relative Frobenius norm squared: 3.931669763334597e-18\n",
      "INFO:sansa.model:Constructing W = L_inv @ P...\n",
      "INFO:sansa.model:Extracting diagonal of W.T @ D_inv @ W...\n",
      "INFO:sansa.model:Dividing columns of W by diagonal entries...\n"
     ]
    },
    {
     "name": "stdout",
     "output_type": "stream",
     "text": [
      "Model trained successfully.\n"
     ]
    }
   ],
   "source": [
    "# 训练模型\n",
    "try:\n",
    "    model.fit(X_train)\n",
    "    print(\"Model trained successfully.\")\n",
    "except Exception as e:\n",
    "    print(\"Error during fitting:\", e)"
   ]
  },
  {
   "cell_type": "code",
   "execution_count": 63,
   "metadata": {},
   "outputs": [
    {
     "data": {
      "text/plain": [
       "<sansa.model.SANSA at 0x26a3df3bbd0>"
      ]
     },
     "execution_count": 63,
     "metadata": {},
     "output_type": "execute_result"
    }
   ],
   "source": [
    "w1, w2 = model.weights  # tuple of scipy.sparse.csr_matrix of shape (num_items, num_items)\n",
    "\n",
    "model.load_weights((w1, w2))"
   ]
  },
  {
   "cell_type": "code",
   "execution_count": 64,
   "metadata": {},
   "outputs": [
    {
     "name": "stdout",
     "output_type": "stream",
     "text": [
      "Model weights shapes: (3, 3) (3, 3)\n"
     ]
    }
   ],
   "source": [
    "# 检查模型权重\n",
    "weights = model.weights\n",
    "if weights is not None:\n",
    "    w1, w2 = weights\n",
    "    print(\"Model weights shapes:\", w1.shape, w2.shape)\n",
    "else:\n",
    "    print(\"Model weights are None. The model may not have trained correctly.\")  "
   ]
  }
 ],
 "metadata": {
  "kernelspec": {
   "display_name": "base",
   "language": "python",
   "name": "python3"
  },
  "language_info": {
   "codemirror_mode": {
    "name": "ipython",
    "version": 3
   },
   "file_extension": ".py",
   "mimetype": "text/x-python",
   "name": "python",
   "nbconvert_exporter": "python",
   "pygments_lexer": "ipython3",
   "version": "3.11.7"
  }
 },
 "nbformat": 4,
 "nbformat_minor": 2
}
